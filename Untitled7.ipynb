{
  "nbformat": 4,
  "nbformat_minor": 0,
  "metadata": {
    "colab": {
      "provenance": []
    },
    "kernelspec": {
      "name": "python3",
      "display_name": "Python 3"
    },
    "language_info": {
      "name": "python"
    }
  },
  "cells": [
    {
      "cell_type": "code",
      "execution_count": null,
      "metadata": {
        "id": "y5AzFphd_Iu1"
      },
      "outputs": [],
      "source": [
        "nota = float(input(\"digite uma nota entre zero e dez: \"))\n",
        "while nota > 10 or nota <0:\n",
        "  nota = float(input(\"digite um valor valido: \"))\n",
        "print(\"sucesso\")"
      ]
    },
    {
      "cell_type": "code",
      "source": [
        "nome = float(input(\"insira o nome de usuario: \"))\n",
        "senha = float(input(\"insira a senha: \"))\n",
        "while nome == senha:\n",
        "  print(\"invalido\")\n",
        "  nome = float(input(\"insira um nome de usuario valido: \"))\n",
        "senha = float(input(\"insira uma senha valida: \"))\n",
        "\n",
        "\n",
        "\n",
        "\n"
      ],
      "metadata": {
        "id": "kN3Dg4KCEnyV"
      },
      "execution_count": null,
      "outputs": []
    },
    {
      "cell_type": "code",
      "source": [
        "numero = 1\n",
        "while numero <= 10:\n",
        " print(numero)\n",
        " numero += 1"
      ],
      "metadata": {
        "id": "HCYnbbcNLXYp"
      },
      "execution_count": null,
      "outputs": []
    },
    {
      "cell_type": "code",
      "source": [
        "numero = 2\n",
        "while numero <= 20:\n",
        " print(numero)\n",
        " numero += 2"
      ],
      "metadata": {
        "id": "wAnboNFGNg4S"
      },
      "execution_count": null,
      "outputs": []
    },
    {
      "cell_type": "code",
      "source": [
        "numero = int(input(\"digite um numero: \"))\n",
        "contador = 1\n",
        "while contador <= numero:\n",
        "  print(contador)\n",
        "  contador += 1"
      ],
      "metadata": {
        "id": "6-NE1Ly7UDjM"
      },
      "execution_count": null,
      "outputs": []
    },
    {
      "cell_type": "code",
      "source": [
        "numero = int(input(\"digite um numero: \"))\n",
        "contador = 2\n",
        "while contador <= numero:\n",
        " print(contador)\n",
        " contador += 2"
      ],
      "metadata": {
        "id": "nqkviZUXXdAm"
      },
      "execution_count": null,
      "outputs": []
    },
    {
      "cell_type": "code",
      "source": [
        "numero = int(input(\"digite um numero: \"))\n",
        "\n",
        "contador = 1\n",
        "while contador <= 10:\n",
        "  resultado = numero * contador\n",
        "  print(f\"{numero} X {contador} = {resultado}\")\n",
        "  contador += 1"
      ],
      "metadata": {
        "id": "xDUUqhyyBZW-"
      },
      "execution_count": null,
      "outputs": []
    },
    {
      "cell_type": "code",
      "source": [
        "senha = 10\n",
        "bala = int(input(\"digite uma senha: \"))\n",
        "\n",
        "while senha != bala:\n",
        "  print(\"senha incorreta\")\n",
        "  bala = int(input(\"digite a senha: \"))\n",
        "  print(\"senha correta\")"
      ],
      "metadata": {
        "id": "jlHI7463YUVo"
      },
      "execution_count": null,
      "outputs": []
    },
    {
      "cell_type": "code",
      "source": [
        "soma = 0\n",
        "contador = 0\n",
        "numero = int(input(\"digite um numero: \"))\n",
        "while contador != numero:\n",
        "  valor = int(input(\"digite um valor: \"))\n",
        "  soma += valor\n",
        "  contador += 1\n",
        "  media = soma / numero\n",
        "\n",
        "print(f\"o valor medio e de {media}\")"
      ],
      "metadata": {
        "id": "NSFdU81SbJYN"
      },
      "execution_count": null,
      "outputs": []
    },
    {
      "cell_type": "code",
      "source": [
        "soma = 0\n",
        "numero = int(input(\"digite um numero: \"))\n",
        "\n",
        "while numero != 0:\n",
        "  soma += numero\n",
        "  numero = int(input(\"digite um numero\"))\n",
        "\n",
        "print(f\"a soma e {soma}\")"
      ],
      "metadata": {
        "id": "cj8U0PrTfi80"
      },
      "execution_count": null,
      "outputs": []
    },
    {
      "cell_type": "code",
      "source": [
        "maiornumero = 0\n",
        "numero = int(input(\"digite um numero: \"))\n",
        "while numero >= 0:\n",
        " numero = int(input(\"digite um numero: \"))\n",
        " if numero > maiornumero:\n",
        "   maiornumero = numero\n",
        "print(f\"o maior número é {maiornumero}\")\n",
        "\n",
        ""
      ],
      "metadata": {
        "colab": {
          "base_uri": "https://localhost:8080/"
        },
        "id": "8aE9DrG3lY82",
        "outputId": "e9290368-bad6-4d18-b76f-fbddae09c013"
      },
      "execution_count": 54,
      "outputs": [
        {
          "output_type": "stream",
          "name": "stdout",
          "text": [
            "digite um numero: 23\n",
            "digite um numero: 34\n",
            "digite um numero: 56\n",
            "digite um numero: 120\n",
            "digite um numero: -1\n",
            "o maior número é 120\n"
          ]
        }
      ]
    }
  ]
}